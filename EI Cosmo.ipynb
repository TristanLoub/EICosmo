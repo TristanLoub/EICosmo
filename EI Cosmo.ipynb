{
 "cells": [
  {
   "cell_type": "markdown",
   "metadata": {},
   "source": [
    "## CMB3"
   ]
  },
  {
   "cell_type": "markdown",
   "metadata": {},
   "source": [
    "### Importation of the modules"
   ]
  },
  {
   "cell_type": "code",
   "execution_count": null,
   "metadata": {},
   "outputs": [
    {
     "name": "stdout",
     "output_type": "stream",
     "text": [
      "Using Python 3\n",
      "Collecting emcee\n",
      "  Downloading emcee-3.1.6-py2.py3-none-any.whl.metadata (3.0 kB)\n",
      "Requirement already satisfied: numpy in /usr/local/lib/python3.11/dist-packages (from emcee) (2.0.2)\n",
      "Downloading emcee-3.1.6-py2.py3-none-any.whl (47 kB)\n",
      "\u001b[2K   \u001b[90m━━━━━━━━━━━━━━━━━━━━━━━━━━━━━━━━━━━━━━━━\u001b[0m \u001b[32m47.4/47.4 kB\u001b[0m \u001b[31m2.3 MB/s\u001b[0m eta \u001b[36m0:00:00\u001b[0m\n",
      "\u001b[?25hInstalling collected packages: emcee\n",
      "Successfully installed emcee-3.1.6\n",
      "Collecting iminuit\n",
      "  Downloading iminuit-2.31.1-cp311-cp311-manylinux_2_17_x86_64.manylinux2014_x86_64.whl.metadata (10 kB)\n",
      "Requirement already satisfied: numpy>=1.21 in /usr/local/lib/python3.11/dist-packages (from iminuit) (2.0.2)\n",
      "Downloading iminuit-2.31.1-cp311-cp311-manylinux_2_17_x86_64.manylinux2014_x86_64.whl (444 kB)\n",
      "\u001b[2K   \u001b[90m━━━━━━━━━━━━━━━━━━━━━━━━━━━━━━━━━━━━━━━━\u001b[0m \u001b[32m444.4/444.4 kB\u001b[0m \u001b[31m4.9 MB/s\u001b[0m eta \u001b[36m0:00:00\u001b[0m\n",
      "\u001b[?25hInstalling collected packages: iminuit\n",
      "Successfully installed iminuit-2.31.1\n",
      "--2025-06-02 12:09:46--  https://raw.githubusercontent.com/jchamilton75/CS-ST4-Cosmo-2020/master/cosmolib.py\n",
      "Resolving raw.githubusercontent.com (raw.githubusercontent.com)... 185.199.110.133, 185.199.111.133, 185.199.109.133, ...\n",
      "Connecting to raw.githubusercontent.com (raw.githubusercontent.com)|185.199.110.133|:443... connected.\n",
      "HTTP request sent, awaiting response... 200 OK\n",
      "Length: 16798 (16K) [text/plain]\n",
      "Saving to: ‘cosmolib.py’\n",
      "\n",
      "cosmolib.py         100%[===================>]  16.40K  --.-KB/s    in 0.001s  \n",
      "\n",
      "2025-06-02 12:09:46 (13.4 MB/s) - ‘cosmolib.py’ saved [16798/16798]\n",
      "\n",
      "Collecting healpy\n",
      "  Downloading healpy-1.18.1-cp311-cp311-manylinux_2_17_x86_64.manylinux2014_x86_64.whl.metadata (9.1 kB)\n",
      "Requirement already satisfied: numpy>=1.19 in /usr/local/lib/python3.11/dist-packages (from healpy) (2.0.2)\n",
      "Requirement already satisfied: astropy in /usr/local/lib/python3.11/dist-packages (from healpy) (7.1.0)\n",
      "Requirement already satisfied: pyerfa>=2.0.1.1 in /usr/local/lib/python3.11/dist-packages (from astropy->healpy) (2.0.1.5)\n",
      "Requirement already satisfied: astropy-iers-data>=0.2025.4.28.0.37.27 in /usr/local/lib/python3.11/dist-packages (from astropy->healpy) (0.2025.5.19.0.38.36)\n",
      "Requirement already satisfied: PyYAML>=6.0.0 in /usr/local/lib/python3.11/dist-packages (from astropy->healpy) (6.0.2)\n",
      "Requirement already satisfied: packaging>=22.0.0 in /usr/local/lib/python3.11/dist-packages (from astropy->healpy) (24.2)\n",
      "Downloading healpy-1.18.1-cp311-cp311-manylinux_2_17_x86_64.manylinux2014_x86_64.whl (8.9 MB)\n",
      "\u001b[2K   \u001b[90m━━━━━━━━━━━━━━━━━━━━━━━━━━━━━━━━━━━━━━━━\u001b[0m \u001b[32m8.9/8.9 MB\u001b[0m \u001b[31m41.6 MB/s\u001b[0m eta \u001b[36m0:00:00\u001b[0m\n",
      "\u001b[?25hInstalling collected packages: healpy\n",
      "Successfully installed healpy-1.18.1\n",
      "Requirement already satisfied: PyDrive in /usr/local/lib/python3.11/dist-packages (1.3.1)\n",
      "Requirement already satisfied: google-api-python-client>=1.2 in /usr/local/lib/python3.11/dist-packages (from PyDrive) (2.169.0)\n",
      "Requirement already satisfied: oauth2client>=4.0.0 in /usr/local/lib/python3.11/dist-packages (from PyDrive) (4.1.3)\n",
      "Requirement already satisfied: PyYAML>=3.0 in /usr/local/lib/python3.11/dist-packages (from PyDrive) (6.0.2)\n",
      "Requirement already satisfied: httplib2<1.0.0,>=0.19.0 in /usr/local/lib/python3.11/dist-packages (from google-api-python-client>=1.2->PyDrive) (0.22.0)\n",
      "Requirement already satisfied: google-auth!=2.24.0,!=2.25.0,<3.0.0,>=1.32.0 in /usr/local/lib/python3.11/dist-packages (from google-api-python-client>=1.2->PyDrive) (2.38.0)\n",
      "Requirement already satisfied: google-auth-httplib2<1.0.0,>=0.2.0 in /usr/local/lib/python3.11/dist-packages (from google-api-python-client>=1.2->PyDrive) (0.2.0)\n",
      "Requirement already satisfied: google-api-core!=2.0.*,!=2.1.*,!=2.2.*,!=2.3.0,<3.0.0,>=1.31.5 in /usr/local/lib/python3.11/dist-packages (from google-api-python-client>=1.2->PyDrive) (2.24.2)\n",
      "Requirement already satisfied: uritemplate<5,>=3.0.1 in /usr/local/lib/python3.11/dist-packages (from google-api-python-client>=1.2->PyDrive) (4.1.1)\n",
      "Requirement already satisfied: pyasn1>=0.1.7 in /usr/local/lib/python3.11/dist-packages (from oauth2client>=4.0.0->PyDrive) (0.6.1)\n",
      "Requirement already satisfied: pyasn1-modules>=0.0.5 in /usr/local/lib/python3.11/dist-packages (from oauth2client>=4.0.0->PyDrive) (0.4.2)\n",
      "Requirement already satisfied: rsa>=3.1.4 in /usr/local/lib/python3.11/dist-packages (from oauth2client>=4.0.0->PyDrive) (4.9.1)\n",
      "Requirement already satisfied: six>=1.6.1 in /usr/local/lib/python3.11/dist-packages (from oauth2client>=4.0.0->PyDrive) (1.17.0)\n",
      "Requirement already satisfied: googleapis-common-protos<2.0.0,>=1.56.2 in /usr/local/lib/python3.11/dist-packages (from google-api-core!=2.0.*,!=2.1.*,!=2.2.*,!=2.3.0,<3.0.0,>=1.31.5->google-api-python-client>=1.2->PyDrive) (1.70.0)\n",
      "Requirement already satisfied: protobuf!=3.20.0,!=3.20.1,!=4.21.0,!=4.21.1,!=4.21.2,!=4.21.3,!=4.21.4,!=4.21.5,<7.0.0,>=3.19.5 in /usr/local/lib/python3.11/dist-packages (from google-api-core!=2.0.*,!=2.1.*,!=2.2.*,!=2.3.0,<3.0.0,>=1.31.5->google-api-python-client>=1.2->PyDrive) (5.29.4)\n",
      "Requirement already satisfied: proto-plus<2.0.0,>=1.22.3 in /usr/local/lib/python3.11/dist-packages (from google-api-core!=2.0.*,!=2.1.*,!=2.2.*,!=2.3.0,<3.0.0,>=1.31.5->google-api-python-client>=1.2->PyDrive) (1.26.1)\n",
      "Requirement already satisfied: requests<3.0.0,>=2.18.0 in /usr/local/lib/python3.11/dist-packages (from google-api-core!=2.0.*,!=2.1.*,!=2.2.*,!=2.3.0,<3.0.0,>=1.31.5->google-api-python-client>=1.2->PyDrive) (2.32.3)\n",
      "Requirement already satisfied: cachetools<6.0,>=2.0.0 in /usr/local/lib/python3.11/dist-packages (from google-auth!=2.24.0,!=2.25.0,<3.0.0,>=1.32.0->google-api-python-client>=1.2->PyDrive) (5.5.2)\n",
      "Requirement already satisfied: pyparsing!=3.0.0,!=3.0.1,!=3.0.2,!=3.0.3,<4,>=2.4.2 in /usr/local/lib/python3.11/dist-packages (from httplib2<1.0.0,>=0.19.0->google-api-python-client>=1.2->PyDrive) (3.2.3)\n",
      "Requirement already satisfied: charset-normalizer<4,>=2 in /usr/local/lib/python3.11/dist-packages (from requests<3.0.0,>=2.18.0->google-api-core!=2.0.*,!=2.1.*,!=2.2.*,!=2.3.0,<3.0.0,>=1.31.5->google-api-python-client>=1.2->PyDrive) (3.4.2)\n",
      "Requirement already satisfied: idna<4,>=2.5 in /usr/local/lib/python3.11/dist-packages (from requests<3.0.0,>=2.18.0->google-api-core!=2.0.*,!=2.1.*,!=2.2.*,!=2.3.0,<3.0.0,>=1.31.5->google-api-python-client>=1.2->PyDrive) (3.10)\n",
      "Requirement already satisfied: urllib3<3,>=1.21.1 in /usr/local/lib/python3.11/dist-packages (from requests<3.0.0,>=2.18.0->google-api-core!=2.0.*,!=2.1.*,!=2.2.*,!=2.3.0,<3.0.0,>=1.31.5->google-api-python-client>=1.2->PyDrive) (2.4.0)\n",
      "Requirement already satisfied: certifi>=2017.4.17 in /usr/local/lib/python3.11/dist-packages (from requests<3.0.0,>=2.18.0->google-api-core!=2.0.*,!=2.1.*,!=2.2.*,!=2.3.0,<3.0.0,>=1.31.5->google-api-python-client>=1.2->PyDrive) (2025.4.26)\n"
     ]
    },
    {
     "name": "stderr",
     "output_type": "stream",
     "text": [
      "WARNING:root:pydrive is deprecated and no longer maintained. We recommend that you migrate your projects to pydrive2, the maintained fork of pydrive\n"
     ]
    },
    {
     "ename": "MessageError",
     "evalue": "Error: credential propagation was unsuccessful",
     "output_type": "error",
     "traceback": [
      "\u001b[0;31m---------------------------------------------------------------------------\u001b[0m\n",
      "\u001b[0;31mMessageError\u001b[0m                              Traceback (most recent call last)\n",
      "\u001b[0;32m<ipython-input-1-1fb842176eb2>\u001b[0m in \u001b[0;36m<cell line: 0>\u001b[0;34m()\u001b[0m\n",
      "\u001b[1;32m     26\u001b[0m \u001b[0;32mfrom\u001b[0m \u001b[0mgoogle\u001b[0m\u001b[0;34m.\u001b[0m\u001b[0mcolab\u001b[0m \u001b[0;32mimport\u001b[0m \u001b[0mauth\u001b[0m\u001b[0;34m\u001b[0m\u001b[0;34m\u001b[0m\u001b[0m\n",
      "\u001b[1;32m     27\u001b[0m \u001b[0;32mfrom\u001b[0m \u001b[0moauth2client\u001b[0m\u001b[0;34m.\u001b[0m\u001b[0mclient\u001b[0m \u001b[0;32mimport\u001b[0m \u001b[0mGoogleCredentials\u001b[0m\u001b[0;34m\u001b[0m\u001b[0;34m\u001b[0m\u001b[0m\n",
      "\u001b[0;32m---> 28\u001b[0;31m \u001b[0mauth\u001b[0m\u001b[0;34m.\u001b[0m\u001b[0mauthenticate_user\u001b[0m\u001b[0;34m(\u001b[0m\u001b[0;34m)\u001b[0m\u001b[0;34m\u001b[0m\u001b[0;34m\u001b[0m\u001b[0m\n",
      "\u001b[0m\u001b[1;32m     29\u001b[0m \u001b[0mgauth\u001b[0m \u001b[0;34m=\u001b[0m \u001b[0mGoogleAuth\u001b[0m\u001b[0;34m(\u001b[0m\u001b[0;34m)\u001b[0m\u001b[0;34m\u001b[0m\u001b[0;34m\u001b[0m\u001b[0m\n",
      "\u001b[1;32m     30\u001b[0m \u001b[0mgauth\u001b[0m\u001b[0;34m.\u001b[0m\u001b[0mcredentials\u001b[0m \u001b[0;34m=\u001b[0m \u001b[0mGoogleCredentials\u001b[0m\u001b[0;34m.\u001b[0m\u001b[0mget_application_default\u001b[0m\u001b[0;34m(\u001b[0m\u001b[0;34m)\u001b[0m\u001b[0;34m\u001b[0m\u001b[0;34m\u001b[0m\u001b[0m\n",
      "\n",
      "\u001b[0;32m/usr/local/lib/python3.11/dist-packages/google/colab/auth.py\u001b[0m in \u001b[0;36mauthenticate_user\u001b[0;34m(clear_output, project_id)\u001b[0m\n",
      "\u001b[1;32m    258\u001b[0m   \u001b[0;32mif\u001b[0m \u001b[0;32mnot\u001b[0m \u001b[0m_check_adc\u001b[0m\u001b[0;34m(\u001b[0m\u001b[0m_CredentialType\u001b[0m\u001b[0;34m.\u001b[0m\u001b[0mUSER\u001b[0m\u001b[0;34m)\u001b[0m\u001b[0;34m:\u001b[0m\u001b[0;34m\u001b[0m\u001b[0;34m\u001b[0m\u001b[0m\n",
      "\u001b[1;32m    259\u001b[0m     \u001b[0;32mif\u001b[0m \u001b[0muse_auth_ephem\u001b[0m\u001b[0;34m:\u001b[0m\u001b[0;34m\u001b[0m\u001b[0;34m\u001b[0m\u001b[0m\n",
      "\u001b[0;32m--> 260\u001b[0;31m       _message.blocking_request(\n",
      "\u001b[0m\u001b[1;32m    261\u001b[0m           \u001b[0;34m'request_auth'\u001b[0m\u001b[0;34m,\u001b[0m\u001b[0;34m\u001b[0m\u001b[0;34m\u001b[0m\u001b[0m\n",
      "\u001b[1;32m    262\u001b[0m           \u001b[0mrequest\u001b[0m\u001b[0;34m=\u001b[0m\u001b[0;34m{\u001b[0m\u001b[0;34m'authType'\u001b[0m\u001b[0;34m:\u001b[0m \u001b[0;34m'auth_user_ephemeral'\u001b[0m\u001b[0;34m}\u001b[0m\u001b[0;34m,\u001b[0m\u001b[0;34m\u001b[0m\u001b[0;34m\u001b[0m\u001b[0m\n",
      "\n",
      "\u001b[0;32m/usr/local/lib/python3.11/dist-packages/google/colab/_message.py\u001b[0m in \u001b[0;36mblocking_request\u001b[0;34m(request_type, request, timeout_sec, parent)\u001b[0m\n",
      "\u001b[1;32m    174\u001b[0m       \u001b[0mrequest_type\u001b[0m\u001b[0;34m,\u001b[0m \u001b[0mrequest\u001b[0m\u001b[0;34m,\u001b[0m \u001b[0mparent\u001b[0m\u001b[0;34m=\u001b[0m\u001b[0mparent\u001b[0m\u001b[0;34m,\u001b[0m \u001b[0mexpect_reply\u001b[0m\u001b[0;34m=\u001b[0m\u001b[0;32mTrue\u001b[0m\u001b[0;34m\u001b[0m\u001b[0;34m\u001b[0m\u001b[0m\n",
      "\u001b[1;32m    175\u001b[0m   )\n",
      "\u001b[0;32m--> 176\u001b[0;31m   \u001b[0;32mreturn\u001b[0m \u001b[0mread_reply_from_input\u001b[0m\u001b[0;34m(\u001b[0m\u001b[0mrequest_id\u001b[0m\u001b[0;34m,\u001b[0m \u001b[0mtimeout_sec\u001b[0m\u001b[0;34m)\u001b[0m\u001b[0;34m\u001b[0m\u001b[0;34m\u001b[0m\u001b[0m\n",
      "\u001b[0m\n",
      "\u001b[0;32m/usr/local/lib/python3.11/dist-packages/google/colab/_message.py\u001b[0m in \u001b[0;36mread_reply_from_input\u001b[0;34m(message_id, timeout_sec)\u001b[0m\n",
      "\u001b[1;32m    101\u001b[0m     ):\n",
      "\u001b[1;32m    102\u001b[0m       \u001b[0;32mif\u001b[0m \u001b[0;34m'error'\u001b[0m \u001b[0;32min\u001b[0m \u001b[0mreply\u001b[0m\u001b[0;34m:\u001b[0m\u001b[0;34m\u001b[0m\u001b[0;34m\u001b[0m\u001b[0m\n",
      "\u001b[0;32m--> 103\u001b[0;31m         \u001b[0;32mraise\u001b[0m \u001b[0mMessageError\u001b[0m\u001b[0;34m(\u001b[0m\u001b[0mreply\u001b[0m\u001b[0;34m[\u001b[0m\u001b[0;34m'error'\u001b[0m\u001b[0;34m]\u001b[0m\u001b[0;34m)\u001b[0m\u001b[0;34m\u001b[0m\u001b[0;34m\u001b[0m\u001b[0m\n",
      "\u001b[0m\u001b[1;32m    104\u001b[0m       \u001b[0;32mreturn\u001b[0m \u001b[0mreply\u001b[0m\u001b[0;34m.\u001b[0m\u001b[0mget\u001b[0m\u001b[0;34m(\u001b[0m\u001b[0;34m'data'\u001b[0m\u001b[0;34m,\u001b[0m \u001b[0;32mNone\u001b[0m\u001b[0;34m)\u001b[0m\u001b[0;34m\u001b[0m\u001b[0;34m\u001b[0m\u001b[0m\n",
      "\u001b[1;32m    105\u001b[0m \u001b[0;34m\u001b[0m\u001b[0m\n",
      "\n",
      "\u001b[0;31mMessageError\u001b[0m: Error: credential propagation was unsuccessful"
     ]
    }
   ],
   "source": [
    "import sys\n",
    "print(\"Using Python {}\".format(sys.version_info[0]))\n",
    "\n",
    "from pylab import *\n",
    "import numpy as np\n",
    "%matplotlib inline\n",
    "from matplotlib import rc\n",
    "rc('figure',figsize=(17,10))\n",
    "rc('font',size=12)\n",
    "rc('text',usetex=False)\n",
    "rcParams['image.cmap'] = 'jet'\n",
    "!pip install emcee\n",
    "!pip install iminuit\n",
    "!rm -rf cosmolib.py*\n",
    "!wget --no-check-certificate https://raw.githubusercontent.com/jchamilton75/CS-ST4-Cosmo-2020/master/cosmolib.py\n",
    "import cosmolib as cs\n",
    "\n",
    "!pip install healpy\n",
    "import healpy as hp\n",
    "\n",
    "#### Reading file from Google Drive\n",
    "!pip install PyDrive\n",
    "import os\n",
    "from pydrive.auth import GoogleAuth\n",
    "from pydrive.drive import GoogleDrive\n",
    "from google.colab import auth\n",
    "from oauth2client.client import GoogleCredentials\n",
    "auth.authenticate_user()\n",
    "gauth = GoogleAuth()\n",
    "gauth.credentials = GoogleCredentials.get_application_default()\n",
    "drive = GoogleDrive(gauth)"
   ]
  },
  {
   "cell_type": "markdown",
   "metadata": {},
   "source": []
  },
  {
   "cell_type": "code",
   "execution_count": null,
   "metadata": {},
   "outputs": [
    {
     "name": "stdout",
     "output_type": "stream",
     "text": [
      "Collecting git+https://github.com/marius311/pypico\n",
      "  Cloning https://github.com/marius311/pypico to /tmp/pip-req-build-nxaecdyw\n",
      "  Running command git clone --filter=blob:none --quiet https://github.com/marius311/pypico /tmp/pip-req-build-nxaecdyw\n",
      "  Resolved https://github.com/marius311/pypico to commit a06ced4228d451ebd869d3eb4ea8ed69ee25a1e5\n",
      "  \u001b[1;31merror\u001b[0m: \u001b[1msubprocess-exited-with-error\u001b[0m\n",
      "  \n",
      "  \u001b[31m×\u001b[0m \u001b[32mpython setup.py egg_info\u001b[0m did not run successfully.\n",
      "  \u001b[31m│\u001b[0m exit code: \u001b[1;36m1\u001b[0m\n",
      "  \u001b[31m╰─>\u001b[0m See above for output.\n",
      "  \n",
      "  \u001b[1;35mnote\u001b[0m: This error originates from a subprocess, and is likely not a problem with pip.\n",
      "  Preparing metadata (setup.py) ... \u001b[?25l\u001b[?25herror\n",
      "\u001b[1;31merror\u001b[0m: \u001b[1mmetadata-generation-failed\u001b[0m\n",
      "\n",
      "\u001b[31m×\u001b[0m Encountered error while generating package metadata.\n",
      "\u001b[31m╰─>\u001b[0m See above for output.\n",
      "\n",
      "\u001b[1;35mnote\u001b[0m: This is an issue with the package mentioned above, not pip.\n",
      "\u001b[1;36mhint\u001b[0m: See above for details.\n"
     ]
    },
    {
     "ename": "ModuleNotFoundError",
     "evalue": "No module named 'pypico'",
     "output_type": "error",
     "traceback": [
      "\u001b[0;31m---------------------------------------------------------------------------\u001b[0m\n",
      "\u001b[0;31mModuleNotFoundError\u001b[0m                       Traceback (most recent call last)\n",
      "\u001b[0;32m<ipython-input-3-6d94791c37e2>\u001b[0m in \u001b[0;36m<cell line: 0>\u001b[0;34m()\u001b[0m\n",
      "\u001b[1;32m      1\u001b[0m \u001b[0mget_ipython\u001b[0m\u001b[0;34m(\u001b[0m\u001b[0;34m)\u001b[0m\u001b[0;34m.\u001b[0m\u001b[0msystem\u001b[0m\u001b[0;34m(\u001b[0m\u001b[0;34m'pip install git+https://github.com/marius311/pypico'\u001b[0m\u001b[0;34m)\u001b[0m\u001b[0;34m\u001b[0m\u001b[0;34m\u001b[0m\u001b[0m\n",
      "\u001b[0;32m----> 2\u001b[0;31m \u001b[0;32mimport\u001b[0m \u001b[0mpypico\u001b[0m\u001b[0;34m\u001b[0m\u001b[0;34m\u001b[0m\u001b[0m\n",
      "\u001b[0m\u001b[1;32m      3\u001b[0m \u001b[0;34m\u001b[0m\u001b[0m\n",
      "\u001b[1;32m      4\u001b[0m \u001b[0mdownload\u001b[0m \u001b[0;34m=\u001b[0m \u001b[0mdrive\u001b[0m\u001b[0;34m.\u001b[0m\u001b[0mCreateFile\u001b[0m\u001b[0;34m(\u001b[0m\u001b[0;34m{\u001b[0m\u001b[0;34m'id'\u001b[0m\u001b[0;34m:\u001b[0m \u001b[0;34m'17DWeh3xPec2iOXrQxNN2aKNr0uxuoahb'\u001b[0m\u001b[0;34m}\u001b[0m\u001b[0;34m)\u001b[0m\u001b[0;34m\u001b[0m\u001b[0;34m\u001b[0m\u001b[0m\n",
      "\u001b[1;32m      5\u001b[0m \u001b[0mdownload\u001b[0m\u001b[0;34m.\u001b[0m\u001b[0mGetContentFile\u001b[0m\u001b[0;34m(\u001b[0m\u001b[0;34m'jcset_py3.dat'\u001b[0m\u001b[0;34m)\u001b[0m\u001b[0;34m\u001b[0m\u001b[0;34m\u001b[0m\u001b[0m\n",
      "\n",
      "\u001b[0;31mModuleNotFoundError\u001b[0m: No module named 'pypico'\n",
      "\n",
      "\u001b[0;31m---------------------------------------------------------------------------\u001b[0;32m\n",
      "NOTE: If your import is failing due to a missing package, you can\n",
      "manually install dependencies using either !pip or !apt.\n",
      "\n",
      "To view examples of installing some common dependencies, click the\n",
      "\"Open Examples\" button below.\n",
      "\u001b[0;31m---------------------------------------------------------------------------\u001b[0m\n"
     ]
    }
   ],
   "source": [
    "!pip install git+https://github.com/marius311/pypico\n",
    "import pypico\n",
    "\n",
    "download = drive.CreateFile({'id': '17DWeh3xPec2iOXrQxNN2aKNr0uxuoahb'})\n",
    "download.GetContentFile('jcset_py3.dat')\n",
    "!ls -lrt\n",
    "\n",
    "pico = pypico.load_pico(\"jcset_py3.dat\")\n"
   ]
  },
  {
   "cell_type": "markdown",
   "metadata": {},
   "source": [
    "### Correction of the error bars"
   ]
  },
  {
   "cell_type": "markdown",
   "metadata": {},
   "source": [
    "Analytical sample variance\n",
    "\n",
    "We know that we can express $C_l$ in function of the Spherical Harmonics Transform coefficients of the map $a_{\\ell m}$ :  \n",
    "$$C_l = Var(a_{\\ell m})$$\n",
    "One important thing to note is that $a_{\\ell m}$ distribution is centered Gaussian.\n",
    "\n",
    "We will calculate an empirical $C_l$ knowing that for each value of $l$, there are $2l+1$ values of $m$, which leads to :    \n",
    "$$C_l = \\frac{1}{2\\ell+1} \\sum_{m=-\\ell}^{\\ell} \\left| a_{\\ell m}\\right|^2$$\n",
    "\n",
    "For a given $l$, let's note $\\sigma^2$ the variance of $a_{\\ell m}$. Supposing for $\\forall m \\ne n \\in [-l, l]$   $a_{\\ell m}$ independant of $a_{\\ell n}  $, according to Cochran theorem, $ \\sum_{m=-\\ell}^{\\ell} \\left| a_{\\ell m}\\right|^2$ follow a $\\chi^2$ distribution with $n$ degree of freedom. So $$Var \\left( \\sum_{m=-\\ell}^{\\ell} \\left| a_{\\ell m}\\right|^2 \\right) = 2n \\sigma^4 = 2(2l+1) Var(a_{\\ell m})^2 = 2(2l+1) C_l^2$$.\n",
    "\n",
    "Therefore we have:     \n",
    "$$Var(C_l) =  Var \\left( \\sum_{m=-\\ell}^{\\ell} \\left| a_{\\ell m}\\right|^2 \\right) = \\frac{2}{2\\ell+1} C_l^2 $$\n",
    "\n",
    "Knowing that $D_l = \\frac{l(l+1) C_l}{2 \\pi}$ we have :\n",
    "$$Var(D_l) =  \\frac{l^2(l+1)^2}{4 \\pi^2} Var(C_l) = \\frac{2}{2\\ell+1} D_l^2 $$\n",
    "\n",
    "There are two more informations to take into account.\n",
    "the spectrum is binned with $\\Delta l=10$ and the CMB is made over a sky fraction of $f = 10\\%$. So we finally have   :    \n",
    "$$Var(D_l) = \\frac{2}{(2\\ell+1) \\Delta l f} D_l^2 $$\n",
    "\n",
    "We can note that in our case $\\Delta l f = 1$\n"
   ]
  },
  {
   "cell_type": "code",
   "execution_count": null,
   "metadata": {},
   "outputs": [
    {
     "ename": "NameError",
     "evalue": "name 'ellvalues' is not defined",
     "output_type": "error",
     "traceback": [
      "\u001b[0;31m---------------------------------------------------------------------------\u001b[0m\n",
      "\u001b[0;31mNameError\u001b[0m                                 Traceback (most recent call last)\n",
      "\u001b[0;32m<ipython-input-1-412697799252>\u001b[0m in \u001b[0;36m<cell line: 0>\u001b[0;34m()\u001b[0m\n",
      "\u001b[1;32m      1\u001b[0m \u001b[0mdeltal\u001b[0m \u001b[0;34m=\u001b[0m \u001b[0;36m10\u001b[0m\u001b[0;34m\u001b[0m\u001b[0;34m\u001b[0m\u001b[0m\n",
      "\u001b[1;32m      2\u001b[0m \u001b[0mf\u001b[0m \u001b[0;34m=\u001b[0m \u001b[0;36m0.1\u001b[0m\u001b[0;34m\u001b[0m\u001b[0;34m\u001b[0m\u001b[0m\n",
      "\u001b[0;32m----> 3\u001b[0;31m \u001b[0mvar_dl\u001b[0m \u001b[0;34m=\u001b[0m \u001b[0;34m(\u001b[0m\u001b[0;36m2\u001b[0m\u001b[0;34m/\u001b[0m\u001b[0;34m(\u001b[0m\u001b[0;34m(\u001b[0m\u001b[0;36m2\u001b[0m\u001b[0;34m*\u001b[0m\u001b[0mellvalues\u001b[0m\u001b[0;34m+\u001b[0m\u001b[0;36m1\u001b[0m\u001b[0;34m)\u001b[0m\u001b[0;34m*\u001b[0m\u001b[0mdeltal\u001b[0m\u001b[0;34m*\u001b[0m\u001b[0mf\u001b[0m\u001b[0;34m)\u001b[0m\u001b[0;34m)\u001b[0m\u001b[0;34m*\u001b[0m\u001b[0mdlexp\u001b[0m\u001b[0;34m**\u001b[0m\u001b[0;36m2\u001b[0m\u001b[0;34m\u001b[0m\u001b[0;34m\u001b[0m\u001b[0m\n",
      "\u001b[0m\u001b[1;32m      4\u001b[0m \u001b[0merrors_bar\u001b[0m \u001b[0;34m=\u001b[0m  \u001b[0mnp\u001b[0m\u001b[0;34m.\u001b[0m\u001b[0msqrt\u001b[0m\u001b[0;34m(\u001b[0m\u001b[0mdlnoise\u001b[0m\u001b[0;34m**\u001b[0m\u001b[0;36m2\u001b[0m\u001b[0;34m+\u001b[0m \u001b[0mvar_dl\u001b[0m \u001b[0;34m)\u001b[0m\u001b[0;34m\u001b[0m\u001b[0;34m\u001b[0m\u001b[0m\n",
      "\u001b[1;32m      5\u001b[0m \u001b[0;34m\u001b[0m\u001b[0m\n",
      "\n",
      "\u001b[0;31mNameError\u001b[0m: name 'ellvalues' is not defined"
     ]
    }
   ],
   "source": [
    "deltal = 10\n",
    "f = 0.1\n",
    "var_dl = (2/((2*ellvalues+1)*deltal*f))*dlexp**2\n",
    "errors_bar =  np.sqrt(dlnoise**2+ var_dl )\n",
    "\n",
    "xlabel('$\\ell$')\n",
    "ylabel('$\\ell(\\ell+1)C_\\ell / 2\\pi$')\n",
    "errorbar(ellvalues, dlexp, yerr=errors_bar, fmt='ro')\n",
    "title(\"$D_l$ in function of $l$ including sample variance \")"
   ]
  },
  {
   "cell_type": "markdown",
   "metadata": {},
   "source": [
    "### Best fit of the curve"
   ]
  },
  {
   "cell_type": "markdown",
   "metadata": {},
   "source": [
    "Now we will now search for the cosmic parameters $h$, $\\Omega_m$ and $\\Omega_\\Lambda$ which fit with this graph. To do so, we need to install PICO, which allows us to simulate a CMB with 8 chosen cosmic parameters. These are stored below in the dictionnary \"parpico\"."
   ]
  },
  {
   "cell_type": "markdown",
   "metadata": {},
   "source": [
    "For our project, 5 out of the 8 inputs of PICO are constraints with the following values:    \n",
    "- ombh2: $\\Omega_b h^2$ the baryonic matter density multiplied by the Hubble constant divided by 100\n",
    "- As: Amplitude of the primordial spectrum for scalars\n",
    "- ns: $n_s$ the spectral index of the primordial spectrum for scalar modes\n",
    "- tau: the optical depth of reionization: probability of transmission  $\\exp(-\\tau)$\n",
    "- pivot_scalar: the scale at which the scalar power spectrum has a turnaround, kept at PICO default value"
   ]
  },
  {
   "cell_type": "markdown",
   "metadata": {},
   "source": [
    "We write a function representing the model to be feated"
   ]
  },
  {
   "cell_type": "code",
   "execution_count": null,
   "metadata": {},
   "outputs": [],
   "source": [
    "planck_params = pico.example_inputs()\n",
    "data = pico.get(**planck_params)\n",
    "planck_params['ombh2'] = 0.02079\n",
    "planck_params['As'] = np.exp(3.094)/1e10\n",
    "planck_params['ns'] = 0.9645\n",
    "planck_params['tau'] = 0.079\n",
    "ell = np.arange(len(data['dl_TT']) - 2) + 2  # Define ell values (2 to len(dl_TT))\n",
    "dl_TT = data['dl_TT']\n",
    "\n",
    "def nearest_neighbor_index(ell, x): #Finds the index of the element in ell that is closest to the value x.\n",
    "\n",
    "  # Calculate absolute differences between x and each ell value\n",
    "  index_list=[]\n",
    "  for i in range (len(x)):\n",
    "\n",
    "    differences = np.abs(ell - x[i])\n",
    "    index_list.append(np.argmin(differences))\n",
    "\n",
    "  # Find the index of the minimum difference\n",
    "  return index_list\n",
    "\n",
    "def model_function(x, param):\n",
    "  \"\"\"\n",
    "  Calculates the CMB temperature power spectrum (dl_TT) at a given ell value\n",
    "  using the provided cosmological parameters and the pico library.\n",
    "\n",
    "  Args:\n",
    "      x (float): The ell value for which to calculate dl_TT.\n",
    "      param : (h, om, ol)\n",
    "\n",
    "  Returns:\n",
    "      float: The dl_TT value at the given ell value.\n",
    "  \"\"\"\n",
    "\n",
    "  # Create a copy of the example parameters to avoid modifying the original\n",
    "  (h, om, ol) = param\n",
    "  try :\n",
    "    inputs = pico.example_inputs()\n",
    "    inputs['H0'] = 100*h\n",
    "    inputs['omch2'] = om*h**2-planck_params['ombh2']\n",
    "    inputs['omk'] = 1 - (om+ol)\n",
    "\n",
    "    # Get dl_TT data using the modified parameters\n",
    "    data = pico.get(**inputs)\n",
    "  except Exception as e: #Point is outside of PICO interpolation region.\n",
    "      #print(e)\n",
    "      return 10**9 #we return a large value so that the chi2 is highly penalised\n",
    "  # Find the index of the nearest ell value in the data\n",
    "  nearest_index = nearest_neighbor_index(ell, x)\n",
    "\n",
    "  # Return the dl_TT value at the nearest index\n",
    "  return data['dl_TT'][nearest_index]\n"
   ]
  },
  {
   "cell_type": "markdown",
   "metadata": {},
   "source": [
    "Even though our likelyhood is not gaussian, we can say that it is assymptically gaussian thanks to the Central Limit Theorem and thus we can write :\n",
    "$$\n",
    "\\begin{eqnarray}\n",
    "A(\\vec{d} \\mid \\vec{\\theta}) &=& -2\\log\\left(\\cal{L(\\vec{d} \\mid \\vec{\\theta})}\\right)\\\\\n",
    "&=& -2\\log\\left( \\frac{1}{\\prod_{i=0}^{N-1}\\sqrt{2\\pi\\sigma_i^2}}\\right) +\\sum_{i=0}^{N-1}\\frac{\\left(y_i-f(x_i,\\vec{\\theta})\\right)^2}{\\sigma_i^2}\n",
    "\\end{eqnarray}$$\n",
    "\n",
    "The first terms does not depend on the parameters $\\vec{\\theta}$ and therefore does not play any role in the minimization. The second term is exactly the $\\chi^2$.\n",
    "So we can use the $\\chi^2$ as an approximation by using the Central Limit Theorem.\n",
    "$$\\chi^2(\\vec{d} \\mid \\vec{\\theta}) = \\sum_{i=0}^{N-1}\\frac{\\left(y_i-f(x_i,\\vec{\\theta})\\right)^2}{\\sigma_i^2}$$"
   ]
  },
  {
   "cell_type": "code",
   "execution_count": null,
   "metadata": {},
   "outputs": [],
   "source": [
    "def chi2_cost(params, Data_l, Data_Dl, errors_bar, model_function):\n",
    "  \"\"\"Calculates chi-squared cost function with error bars for data fitting.\n",
    "\n",
    "  Args:\n",
    "      params (array-like): Array containing the parameters of the model.\n",
    "      Data_l (array-like): Array of independent data points (x-values).\n",
    "      Data_Dl (array-like): Array of dependent data points (y-values).\n",
    "      errors_bar (array-like): Array of error bars for the y-data points.\n",
    "      model_function (function): Function representing the model to be fitted.\n",
    "\n",
    "  Returns:\n",
    "      float: The chi-squared cost value.\n",
    "  \"\"\"\n",
    "\n",
    "  return sum(((Data_Dl - model_function(Data_l, params)) / errors_bar)**2)"
   ]
  },
  {
   "cell_type": "markdown",
   "metadata": {},
   "source": [
    "There are severale methods to minimize the cost we will try all of them to compare them.\n"
   ]
  },
  {
   "cell_type": "markdown",
   "metadata": {},
   "source": [
    "#### With Minuit"
   ]
  },
  {
   "cell_type": "markdown",
   "metadata": {},
   "source": [
    "First we use the Minuit Librairy"
   ]
  },
  {
   "cell_type": "code",
   "execution_count": null,
   "metadata": {},
   "outputs": [],
   "source": [
    "\n",
    "# paramètres initiaux et des bornes\n",
    "h=planck_params['H0']/100\n",
    "om=(planck_params['omch2']+planck_params['ombh2'])/h**2\n",
    "ol=1-(planck_params['omk']+om)\n",
    "p0 = np.array([h ,om ,ol ])\n",
    "print(\"Initial parameters:\", p0)\n",
    "BOUNDS = [(0.3,0.6), (0,1), (0,1)]"
   ]
  },
  {
   "cell_type": "code",
   "execution_count": null,
   "metadata": {},
   "outputs": [],
   "source": [
    "!pip install iminuit\n",
    "\n",
    "import numpy as np\n",
    "from iminuit import Minuit\n",
    "\n",
    "Data_l, Data_Dl = ellvalues, dlexp\n",
    "\n",
    "# minimisation avec iminuit\n",
    "def minuit_chi2(param):\n",
    "    return chi2_cost(param, Data_l, Data_Dl, errors_bar, model_function)\n",
    "\n",
    "# on crée un objet Minuit avec les paramètres initiaux et les bornes\n",
    "m = Minuit(minuit_chi2, p0)\n",
    "m.limits = BOUNDS\n",
    "\n",
    "#minimisation\n",
    "m.migrad()\n",
    "\n",
    "# Obtenir les paramètres minimisés\n",
    "minimized_params = m.values\n",
    "\n",
    "print(\"Minimized parameters:\", minimized_params)\n"
   ]
  },
  {
   "cell_type": "markdown",
   "metadata": {},
   "source": [
    "#### With Scipy"
   ]
  },
  {
   "cell_type": "markdown",
   "metadata": {},
   "source": [
    "We minimize using scipy.optimize.minimize :"
   ]
  },
  {
   "cell_type": "code",
   "execution_count": null,
   "metadata": {},
   "outputs": [],
   "source": [
    "from scipy.optimize import minimize\n",
    "# Minimize the chi-squared cost function\n",
    "result = minimize(chi2_cost, p0, args=(Data_l, Data_Dl, errors_bar, model_function),\n",
    "method='Nelder-Mead', bounds=BOUNDS)\n",
    "\n",
    "# Print the minimized parameters and chi-squared value\n",
    "print(\"Minimized parameters:\", result.x)\n",
    "print(\"Chi-squared at minimum:\", chi2_cost(result.x, Data_l, Data_Dl, errors_bar, model_function))\n"
   ]
  },
  {
   "cell_type": "markdown",
   "metadata": {},
   "source": [
    "#### Plot of the best curve"
   ]
  },
  {
   "cell_type": "code",
   "execution_count": null,
   "metadata": {},
   "outputs": [],
   "source": [
    "inputs = pico.example_inputs()\n",
    "h = result.x[0]\n",
    "om = result.x[1]\n",
    "ol = result.x[2]\n",
    "inputs['H0'] = 100*h\n",
    "inputs['omch2'] = om*h**2-planck_params['ombh2']\n",
    "inputs['omk'] = 1 - (om+ol)\n",
    "dl_TT = pico.get(**inputs)['dl_TT']\n",
    "plot(ell, dl_TT[:len(ell)])\n",
    "xlabel('$\\ell$')\n",
    "ylabel('$\\ell(\\ell+1)C_\\ell / 2\\pi$')\n",
    "xlim(0,700)\n",
    "ylim(0,10000)\n",
    "errorbar(ellvalues, dlexp, yerr=errors_bar, fmt='ro')"
   ]
  },
  {
   "cell_type": "markdown",
   "metadata": {},
   "source": [
    "### Monte-Carlo-Markov-Chain"
   ]
  },
  {
   "cell_type": "code",
   "execution_count": null,
   "metadata": {},
   "outputs": [],
   "source": [
    "data = cs.Data(Data_l, Data_Dl, errors_bar, model_function)\n",
    "\n",
    "chain = data.run_mcmc(p0, nbmc=3000, allvariables=['h', 'om','ol'],nsigmas=10**-10)"
   ]
  },
  {
   "cell_type": "code",
   "execution_count": null,
   "metadata": {},
   "outputs": [],
   "source": [
    "plot(chain['h'], chain['om'], ',', alpha=0.1)\n",
    "\n",
    "xlabel('p0')\n",
    "ylabel('p1')"
   ]
  },
  {
   "cell_type": "code",
   "execution_count": null,
   "metadata": {},
   "outputs": [],
   "source": [
    "im2d = hist2d(chain['h'], chain['om'], bins=100)\n",
    "mat = np.ma.masked_where(im2d[0]==0,im2d[0]).T\n",
    "imshow(mat, interpolation='nearest', origin='lower',aspect='auto')\n",
    "colorbar()\n",
    "xlabel('h')\n",
    "ylabel('om')"
   ]
  },
  {
   "cell_type": "code",
   "execution_count": null,
   "metadata": {},
   "outputs": [],
   "source": [
    "sm = 1.5\n",
    "cs.matrixplot(chain, ['h', 'om','ol'], 'green', sm, labels=['h', r'$\\Omega_m$',r'$\\Omega_{\\Lambda}$'])"
   ]
  }
 ],
 "metadata": {
  "language_info": {
   "name": "python"
  }
 },
 "nbformat": 4,
 "nbformat_minor": 2
}
